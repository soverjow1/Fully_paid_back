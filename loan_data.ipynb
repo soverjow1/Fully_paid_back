{
 "cells": [
  {
   "cell_type": "code",
   "execution_count": 1,
   "metadata": {},
   "outputs": [],
   "source": [
    "import pandas as pd \n",
    "import seaborn as sns \n",
    "import matplotlib.pyplot as plt \n",
    "import numpy as np \n",
    "# import tool to manipulate and visualize data"
   ]
  },
  {
   "cell_type": "markdown",
   "metadata": {},
   "source": [
    ": check profile then predict that did they will full paying back ?\n",
    "\n",
    "- credit.policy: 1 if the customer meets the credit underwriting criteria of LendingClub.com, and 0 otherwise.\n",
    "- purpose: The purpose of the loan (takes values \"credit_card\", \"debt_consolidation\", \"educational\", \"major_purchase\",        \"small_business\", and \"all_other\").\n",
    "- int.rate: The interest rate of the loan, as a proportion (a rate of 11% would be stored as 0.11). Borrowers judged      by  \n",
    "LendingClub.com to be more risky are assigned higher interest rates.\n",
    "- installment: The monthly installments owed by the borrower if the loan is funded.\n",
    "- log.annual.inc: The natural log of the self-reported annual income of the borrower.\n",
    "- dti: The debt-to-income ratio of the borrower (amount of debt divided by annual income).\n",
    "- fico: The FICO credit score of the borrower.\n",
    "days.with.cr.line: The number of days the borrower has had a credit line.\n",
    "- revol.bal: The borrower's revolving balance (amount unpaid at the end of the credit card billing cycle).\n",
    "revol.util: The borrower's revolving line utilization rate (the amount of the credit line used relative to total credit available).\n",
    "- inq.last.6mths: The borrower's number of inquiries by creditors in the last 6 months.\n",
    "- delinq.2yrs: The number of times the borrower had been 30+ days past due on a payment in the past 2 years.\n",
    "- pub.rec: The borrower's number of derogatory public records (bankruptcy filings, tax liens, or judgments)."
   ]
  },
  {
   "cell_type": "code",
   "execution_count": 2,
   "metadata": {},
   "outputs": [
    {
     "data": {
      "text/html": [
       "<div>\n",
       "<style scoped>\n",
       "    .dataframe tbody tr th:only-of-type {\n",
       "        vertical-align: middle;\n",
       "    }\n",
       "\n",
       "    .dataframe tbody tr th {\n",
       "        vertical-align: top;\n",
       "    }\n",
       "\n",
       "    .dataframe thead th {\n",
       "        text-align: right;\n",
       "    }\n",
       "</style>\n",
       "<table border=\"1\" class=\"dataframe\">\n",
       "  <thead>\n",
       "    <tr style=\"text-align: right;\">\n",
       "      <th></th>\n",
       "      <th>credit.policy</th>\n",
       "      <th>purpose</th>\n",
       "      <th>int.rate</th>\n",
       "      <th>installment</th>\n",
       "      <th>log.annual.inc</th>\n",
       "      <th>dti</th>\n",
       "      <th>fico</th>\n",
       "      <th>days.with.cr.line</th>\n",
       "      <th>revol.bal</th>\n",
       "      <th>revol.util</th>\n",
       "      <th>inq.last.6mths</th>\n",
       "      <th>delinq.2yrs</th>\n",
       "      <th>pub.rec</th>\n",
       "      <th>not.fully.paid</th>\n",
       "    </tr>\n",
       "  </thead>\n",
       "  <tbody>\n",
       "    <tr>\n",
       "      <th>0</th>\n",
       "      <td>1</td>\n",
       "      <td>debt_consolidation</td>\n",
       "      <td>0.1189</td>\n",
       "      <td>829.10</td>\n",
       "      <td>11.350407</td>\n",
       "      <td>19.48</td>\n",
       "      <td>737</td>\n",
       "      <td>5639.958333</td>\n",
       "      <td>28854</td>\n",
       "      <td>52.1</td>\n",
       "      <td>0</td>\n",
       "      <td>0</td>\n",
       "      <td>0</td>\n",
       "      <td>0</td>\n",
       "    </tr>\n",
       "    <tr>\n",
       "      <th>1</th>\n",
       "      <td>1</td>\n",
       "      <td>credit_card</td>\n",
       "      <td>0.1071</td>\n",
       "      <td>228.22</td>\n",
       "      <td>11.082143</td>\n",
       "      <td>14.29</td>\n",
       "      <td>707</td>\n",
       "      <td>2760.000000</td>\n",
       "      <td>33623</td>\n",
       "      <td>76.7</td>\n",
       "      <td>0</td>\n",
       "      <td>0</td>\n",
       "      <td>0</td>\n",
       "      <td>0</td>\n",
       "    </tr>\n",
       "    <tr>\n",
       "      <th>2</th>\n",
       "      <td>1</td>\n",
       "      <td>debt_consolidation</td>\n",
       "      <td>0.1357</td>\n",
       "      <td>366.86</td>\n",
       "      <td>10.373491</td>\n",
       "      <td>11.63</td>\n",
       "      <td>682</td>\n",
       "      <td>4710.000000</td>\n",
       "      <td>3511</td>\n",
       "      <td>25.6</td>\n",
       "      <td>1</td>\n",
       "      <td>0</td>\n",
       "      <td>0</td>\n",
       "      <td>0</td>\n",
       "    </tr>\n",
       "  </tbody>\n",
       "</table>\n",
       "</div>"
      ],
      "text/plain": [
       "   credit.policy             purpose  int.rate  installment  log.annual.inc  \\\n",
       "0              1  debt_consolidation    0.1189       829.10       11.350407   \n",
       "1              1         credit_card    0.1071       228.22       11.082143   \n",
       "2              1  debt_consolidation    0.1357       366.86       10.373491   \n",
       "\n",
       "     dti  fico  days.with.cr.line  revol.bal  revol.util  inq.last.6mths  \\\n",
       "0  19.48   737        5639.958333      28854        52.1               0   \n",
       "1  14.29   707        2760.000000      33623        76.7               0   \n",
       "2  11.63   682        4710.000000       3511        25.6               1   \n",
       "\n",
       "   delinq.2yrs  pub.rec  not.fully.paid  \n",
       "0            0        0               0  \n",
       "1            0        0               0  \n",
       "2            0        0               0  "
      ]
     },
     "execution_count": 2,
     "metadata": {},
     "output_type": "execute_result"
    }
   ],
   "source": [
    "df = pd.read_csv('C:/Users/tanaw/Downloads/loan_data.csv')\n",
    "df.head(3)"
   ]
  },
  {
   "cell_type": "code",
   "execution_count": 3,
   "metadata": {},
   "outputs": [
    {
     "data": {
      "text/plain": [
       "credit.policy        0\n",
       "purpose              0\n",
       "int.rate             0\n",
       "installment          0\n",
       "log.annual.inc       0\n",
       "dti                  0\n",
       "fico                 0\n",
       "days.with.cr.line    0\n",
       "revol.bal            0\n",
       "revol.util           0\n",
       "inq.last.6mths       0\n",
       "delinq.2yrs          0\n",
       "pub.rec              0\n",
       "not.fully.paid       0\n",
       "dtype: int64"
      ]
     },
     "execution_count": 3,
     "metadata": {},
     "output_type": "execute_result"
    }
   ],
   "source": [
    "df.isna().sum() # check null value"
   ]
  },
  {
   "cell_type": "markdown",
   "metadata": {},
   "source": [
    "### Explore data"
   ]
  },
  {
   "cell_type": "markdown",
   "metadata": {},
   "source": [
    "how purpose effect notfullypaid ?"
   ]
  },
  {
   "cell_type": "code",
   "execution_count": 4,
   "metadata": {},
   "outputs": [
    {
     "data": {
      "text/html": [
       "<div>\n",
       "<style scoped>\n",
       "    .dataframe tbody tr th:only-of-type {\n",
       "        vertical-align: middle;\n",
       "    }\n",
       "\n",
       "    .dataframe tbody tr th {\n",
       "        vertical-align: top;\n",
       "    }\n",
       "\n",
       "    .dataframe thead th {\n",
       "        text-align: right;\n",
       "    }\n",
       "</style>\n",
       "<table border=\"1\" class=\"dataframe\">\n",
       "  <thead>\n",
       "    <tr style=\"text-align: right;\">\n",
       "      <th>not.fully.paid</th>\n",
       "      <th>0</th>\n",
       "      <th>1</th>\n",
       "      <th>All</th>\n",
       "    </tr>\n",
       "    <tr>\n",
       "      <th>purpose</th>\n",
       "      <th></th>\n",
       "      <th></th>\n",
       "      <th></th>\n",
       "    </tr>\n",
       "  </thead>\n",
       "  <tbody>\n",
       "    <tr>\n",
       "      <th>all_other</th>\n",
       "      <td>1944</td>\n",
       "      <td>387</td>\n",
       "      <td>2331</td>\n",
       "    </tr>\n",
       "    <tr>\n",
       "      <th>credit_card</th>\n",
       "      <td>1116</td>\n",
       "      <td>146</td>\n",
       "      <td>1262</td>\n",
       "    </tr>\n",
       "    <tr>\n",
       "      <th>debt_consolidation</th>\n",
       "      <td>3354</td>\n",
       "      <td>603</td>\n",
       "      <td>3957</td>\n",
       "    </tr>\n",
       "    <tr>\n",
       "      <th>educational</th>\n",
       "      <td>274</td>\n",
       "      <td>69</td>\n",
       "      <td>343</td>\n",
       "    </tr>\n",
       "    <tr>\n",
       "      <th>home_improvement</th>\n",
       "      <td>522</td>\n",
       "      <td>107</td>\n",
       "      <td>629</td>\n",
       "    </tr>\n",
       "    <tr>\n",
       "      <th>major_purchase</th>\n",
       "      <td>388</td>\n",
       "      <td>49</td>\n",
       "      <td>437</td>\n",
       "    </tr>\n",
       "    <tr>\n",
       "      <th>small_business</th>\n",
       "      <td>447</td>\n",
       "      <td>172</td>\n",
       "      <td>619</td>\n",
       "    </tr>\n",
       "    <tr>\n",
       "      <th>All</th>\n",
       "      <td>8045</td>\n",
       "      <td>1533</td>\n",
       "      <td>9578</td>\n",
       "    </tr>\n",
       "  </tbody>\n",
       "</table>\n",
       "</div>"
      ],
      "text/plain": [
       "not.fully.paid         0     1   All\n",
       "purpose                             \n",
       "all_other           1944   387  2331\n",
       "credit_card         1116   146  1262\n",
       "debt_consolidation  3354   603  3957\n",
       "educational          274    69   343\n",
       "home_improvement     522   107   629\n",
       "major_purchase       388    49   437\n",
       "small_business       447   172   619\n",
       "All                 8045  1533  9578"
      ]
     },
     "execution_count": 4,
     "metadata": {},
     "output_type": "execute_result"
    }
   ],
   "source": [
    "df_purpose_y = pd.pivot_table(data=df[['purpose','not.fully.paid']],index='purpose',columns=['not.fully.paid'],aggfunc=len,margins=True)\n",
    "df_purpose_y "
   ]
  },
  {
   "cell_type": "code",
   "execution_count": 5,
   "metadata": {},
   "outputs": [
    {
     "data": {
      "text/plain": [
       "purpose\n",
       "all_other             0.833977\n",
       "credit_card           0.884311\n",
       "debt_consolidation    0.847612\n",
       "educational           0.798834\n",
       "home_improvement      0.829889\n",
       "major_purchase        0.887872\n",
       "small_business        0.722132\n",
       "All                   0.839946\n",
       "dtype: float64"
      ]
     },
     "execution_count": 5,
     "metadata": {},
     "output_type": "execute_result"
    }
   ],
   "source": [
    "df_purpose_y[0]/df_purpose_y['All'] # Fully_Paid_Rate IN each Purpose"
   ]
  },
  {
   "cell_type": "code",
   "execution_count": 8,
   "metadata": {},
   "outputs": [
    {
     "data": {
      "text/plain": [
       "<BarContainer object of 8 artists>"
      ]
     },
     "execution_count": 8,
     "metadata": {},
     "output_type": "execute_result"
    },
    {
     "data": {
      "image/png": "[encoded data removed]",
      "text/plain": [
       "<Figure size 1008x360 with 1 Axes>"
      ]
     },
     "metadata": {
      "needs_background": "light"
     },
     "output_type": "display_data"
    }
   ],
   "source": [
    "fully_paid_rate = df_purpose_y[0]/df_purpose_y['All']\n",
    "plt.figure(figsize=(14,5))\n",
    "plt.bar(fully_paid_rate.index,fully_paid_rate.values) # loan for small business trend to not fully paid "
   ]
  },
  {
   "cell_type": "markdown",
   "metadata": {},
   "source": [
    "how int.rate effect notfullypaid "
   ]
  },
  {
   "cell_type": "code",
   "execution_count": 9,
   "metadata": {},
   "outputs": [
    {
     "data": {
      "text/plain": [
       "<AxesSubplot:xlabel='int.rate', ylabel='Count'>"
      ]
     },
     "execution_count": 9,
     "metadata": {},
     "output_type": "execute_result"
    },
    {
     "data": {
      "image/png": "[encoded data removed]",
      "text/plain": [
       "<Figure size 432x288 with 1 Axes>"
      ]
     },
     "metadata": {
      "needs_background": "light"
     },
     "output_type": "display_data"
    }
   ],
   "source": [
    "sns.histplot(data=df,x='int.rate',hue='not.fully.paid')"
   ]
  },
  {
   "cell_type": "code",
   "execution_count": 11,
   "metadata": {},
   "outputs": [
    {
     "data": {
      "text/plain": [
       "<AxesSubplot:xlabel='not.fully.paid', ylabel='int.rate'>"
      ]
     },
     "execution_count": 11,
     "metadata": {},
     "output_type": "execute_result"
    },
    {
     "data": {
      "image/png": "[encoded data removed]",
      "text/plain": [
       "<Figure size 432x288 with 1 Axes>"
      ]
     },
     "metadata": {
      "needs_background": "light"
     },
     "output_type": "display_data"
    }
   ],
   "source": [
    "sns.barplot(data=df,y='int.rate',x='not.fully.paid') # "
   ]
  },
  {
   "cell_type": "code",
   "execution_count": 13,
   "metadata": {},
   "outputs": [
    {
     "data": {
      "text/plain": [
       "not.fully.paid\n",
       "0    0.120770\n",
       "1    0.132452\n",
       "Name: int.rate, dtype: float64"
      ]
     },
     "execution_count": 13,
     "metadata": {},
     "output_type": "execute_result"
    }
   ],
   "source": [
    "df.groupby('not.fully.paid')['int.rate'].agg(np.mean) \n",
    "# int.rate effect a little to fully paid  \n",
    "# so i decide to bootsample to sure that who not fully paid get higher int.rate about 1%"
   ]
  },
  {
   "cell_type": "code",
   "execution_count": 26,
   "metadata": {},
   "outputs": [
    {
     "data": {
      "text/plain": [
       "[0.01080782474416965,\n",
       " 0.011020114299786068,\n",
       " 0.011238773942030614,\n",
       " 0.011957940920456836,\n",
       " 0.012404865514691513]"
      ]
     },
     "execution_count": 26,
     "metadata": {},
     "output_type": "execute_result"
    }
   ],
   "source": [
    "diff_int_rate_list = []\n",
    "for i in range(1000):\n",
    "    df_sample_1 = df.sample(frac=1,replace=True) \n",
    "    int_rate_not_paid = df_sample_1.groupby('not.fully.paid')['int.rate'].agg(np.mean).loc[1]\n",
    "    int_rate_paid = df.groupby('not.fully.paid')['int.rate'].agg(np.mean).loc[0]\n",
    "    diff_int_rate = int_rate_not_paid - int_rate_paid\n",
    "    diff_int_rate_list.append(diff_int_rate)\n",
    "diff_int_rate_list[0:5]"
   ]
  },
  {
   "cell_type": "code",
   "execution_count": 25,
   "metadata": {},
   "outputs": [
    {
     "data": {
      "text/plain": [
       "0.010622182950035279"
      ]
     },
     "execution_count": 25,
     "metadata": {},
     "output_type": "execute_result"
    }
   ],
   "source": [
    "np.percentile(diff_int_rate_list,5) # who not fullypaid get higher int.rate about 1% for this dataset"
   ]
  },
  {
   "cell_type": "markdown",
   "metadata": {},
   "source": [
    "debt-to-income ratio (debt/income) effect notfullypaid ?"
   ]
  },
  {
   "cell_type": "code",
   "execution_count": 27,
   "metadata": {},
   "outputs": [
    {
     "data": {
      "text/plain": [
       "<AxesSubplot:xlabel='not.fully.paid', ylabel='dti'>"
      ]
     },
     "execution_count": 27,
     "metadata": {},
     "output_type": "execute_result"
    },
    {
     "data": {
      "image/png": "[encoded data removed]",
      "text/plain": [
       "<Figure size 432x288 with 1 Axes>"
      ]
     },
     "metadata": {
      "needs_background": "light"
     },
     "output_type": "display_data"
    }
   ],
   "source": [
    "sns.barplot(data=df,y='dti',x='not.fully.paid') \n",
    "# not see a huge big "
   ]
  },
  {
   "cell_type": "code",
   "execution_count": 28,
   "metadata": {},
   "outputs": [
    {
     "data": {
      "text/plain": [
       "<AxesSubplot:xlabel='dti', ylabel='Count'>"
      ]
     },
     "execution_count": 28,
     "metadata": {},
     "output_type": "execute_result"
    },
    {
     "data": {
      "image/png": "[encoded data removed]",
      "text/plain": [
       "<Figure size 432x288 with 1 Axes>"
      ]
     },
     "metadata": {
      "needs_background": "light"
     },
     "output_type": "display_data"
    }
   ],
   "source": [
    "sns.histplot(data=df,x='dti',hue='not.fully.paid')\n",
    "# plt.ylim(0,50)\n",
    "# plt.xlim([25,30])\n",
    "# So I try to focus who DTI more than 25 "
   ]
  },
  {
   "cell_type": "code",
   "execution_count": 38,
   "metadata": {},
   "outputs": [
    {
     "name": "stdout",
     "output_type": "stream",
     "text": [
      "Fully_paid_rate for DTI more than 25 = 0.75\n",
      "Fully_paid_rate for DTI less or equal 25 = 0.8413961383407595\n"
     ]
    }
   ],
   "source": [
    "print(\"Fully_paid_rate for DTI more than 25 =\",1 - df[df['dti']>25]['not.fully.paid'].sum()/len(df[df['dti']>25]))\n",
    "print(\"Fully_paid_rate for DTI less or equal 25 =\",1 - df[df['dti']<=25]['not.fully.paid'].sum()/len(df[df['dti']<=25]))\n",
    "# DTI less than 25 trend to fully_paid more than DIT>25"
   ]
  },
  {
   "cell_type": "code",
   "execution_count": 41,
   "metadata": {},
   "outputs": [
    {
     "name": "stdout",
     "output_type": "stream",
     "text": [
      "number of who DTI > 25 : 152\n",
      "number of who DTI <= 25 : 9426\n"
     ]
    }
   ],
   "source": [
    "print(\"number of who DTI > 25 :\",len(df[df['dti']>25]))\n",
    "print(\"number of who DTI <= 25 :\",len(df[df['dti']<=25]))\n",
    "# But size of DTI>25 is very low So I decide to bootsample data to sure that DTI effect fully_paid_rate"
   ]
  },
  {
   "cell_type": "code",
   "execution_count": 42,
   "metadata": {},
   "outputs": [
    {
     "data": {
      "text/plain": [
       "[0.07797192511795925, 0.05728914572913468, 0.09546301338454044]"
      ]
     },
     "execution_count": 42,
     "metadata": {},
     "output_type": "execute_result"
    }
   ],
   "source": [
    "diff_fullVsDti_list = []\n",
    "for i in range(2000):\n",
    "    df_sample = df.sample(frac=1,replace=True) \n",
    "    fully_paid_rate_more = 1 - df_sample[df_sample['dti']>25]['not.fully.paid'].sum()/len(df_sample[df_sample['dti']>25])\n",
    "    fully_paid_rate_less = 1 - df_sample[df_sample['dti']<=25]['not.fully.paid'].sum()/len(df_sample[df_sample['dti']<=25])\n",
    "    diff = fully_paid_rate_less - fully_paid_rate_more \n",
    "    diff_fullVsDti_list.append(diff)\n",
    "diff_fullVsDti_list[0:3]"
   ]
  },
  {
   "cell_type": "code",
   "execution_count": 43,
   "metadata": {},
   "outputs": [
    {
     "name": "stdout",
     "output_type": "stream",
     "text": [
      "0.03433689859415343\n"
     ]
    }
   ],
   "source": [
    "print(np.quantile(diff_fullVsDti_list,0.05))\n",
    "# print 5th percentile of sample to sure that more DTI trend to not fullypaid"
   ]
  },
  {
   "cell_type": "markdown",
   "metadata": {},
   "source": [
    "### Model Selection"
   ]
  },
  {
   "cell_type": "code",
   "execution_count": 44,
   "metadata": {},
   "outputs": [],
   "source": [
    "from sklearn.preprocessing import StandardScaler\n",
    "from sklearn.model_selection import cross_val_score , KFold , train_test_split \n",
    "from sklearn.neighbors import KNeighborsClassifier\n",
    "from sklearn.linear_model import LogisticRegression \n",
    "from sklearn.tree import DecisionTreeClassifier \n",
    "from sklearn.svm import SVC\n",
    "from sklearn.model_selection import GridSearchCV , RandomizedSearchCV\n",
    "from sklearn.metrics import classification_report , confusion_matrix"
   ]
  },
  {
   "cell_type": "code",
   "execution_count": 45,
   "metadata": {},
   "outputs": [
    {
     "data": {
      "text/html": [
       "<div>\n",
       "<style scoped>\n",
       "    .dataframe tbody tr th:only-of-type {\n",
       "        vertical-align: middle;\n",
       "    }\n",
       "\n",
       "    .dataframe tbody tr th {\n",
       "        vertical-align: top;\n",
       "    }\n",
       "\n",
       "    .dataframe thead th {\n",
       "        text-align: right;\n",
       "    }\n",
       "</style>\n",
       "<table border=\"1\" class=\"dataframe\">\n",
       "  <thead>\n",
       "    <tr style=\"text-align: right;\">\n",
       "      <th></th>\n",
       "      <th>credit.policy</th>\n",
       "      <th>purpose</th>\n",
       "      <th>int.rate</th>\n",
       "      <th>installment</th>\n",
       "      <th>log.annual.inc</th>\n",
       "      <th>dti</th>\n",
       "      <th>fico</th>\n",
       "      <th>days.with.cr.line</th>\n",
       "      <th>revol.bal</th>\n",
       "      <th>revol.util</th>\n",
       "      <th>inq.last.6mths</th>\n",
       "      <th>delinq.2yrs</th>\n",
       "      <th>pub.rec</th>\n",
       "      <th>not.fully.paid</th>\n",
       "    </tr>\n",
       "  </thead>\n",
       "  <tbody>\n",
       "    <tr>\n",
       "      <th>0</th>\n",
       "      <td>1</td>\n",
       "      <td>debt_consolidation</td>\n",
       "      <td>0.1189</td>\n",
       "      <td>829.10</td>\n",
       "      <td>11.350407</td>\n",
       "      <td>19.48</td>\n",
       "      <td>737</td>\n",
       "      <td>5639.958333</td>\n",
       "      <td>28854</td>\n",
       "      <td>52.1</td>\n",
       "      <td>0</td>\n",
       "      <td>0</td>\n",
       "      <td>0</td>\n",
       "      <td>0</td>\n",
       "    </tr>\n",
       "    <tr>\n",
       "      <th>1</th>\n",
       "      <td>1</td>\n",
       "      <td>credit_card</td>\n",
       "      <td>0.1071</td>\n",
       "      <td>228.22</td>\n",
       "      <td>11.082143</td>\n",
       "      <td>14.29</td>\n",
       "      <td>707</td>\n",
       "      <td>2760.000000</td>\n",
       "      <td>33623</td>\n",
       "      <td>76.7</td>\n",
       "      <td>0</td>\n",
       "      <td>0</td>\n",
       "      <td>0</td>\n",
       "      <td>0</td>\n",
       "    </tr>\n",
       "    <tr>\n",
       "      <th>2</th>\n",
       "      <td>1</td>\n",
       "      <td>debt_consolidation</td>\n",
       "      <td>0.1357</td>\n",
       "      <td>366.86</td>\n",
       "      <td>10.373491</td>\n",
       "      <td>11.63</td>\n",
       "      <td>682</td>\n",
       "      <td>4710.000000</td>\n",
       "      <td>3511</td>\n",
       "      <td>25.6</td>\n",
       "      <td>1</td>\n",
       "      <td>0</td>\n",
       "      <td>0</td>\n",
       "      <td>0</td>\n",
       "    </tr>\n",
       "  </tbody>\n",
       "</table>\n",
       "</div>"
      ],
      "text/plain": [
       "   credit.policy             purpose  int.rate  installment  log.annual.inc  \\\n",
       "0              1  debt_consolidation    0.1189       829.10       11.350407   \n",
       "1              1         credit_card    0.1071       228.22       11.082143   \n",
       "2              1  debt_consolidation    0.1357       366.86       10.373491   \n",
       "\n",
       "     dti  fico  days.with.cr.line  revol.bal  revol.util  inq.last.6mths  \\\n",
       "0  19.48   737        5639.958333      28854        52.1               0   \n",
       "1  14.29   707        2760.000000      33623        76.7               0   \n",
       "2  11.63   682        4710.000000       3511        25.6               1   \n",
       "\n",
       "   delinq.2yrs  pub.rec  not.fully.paid  \n",
       "0            0        0               0  \n",
       "1            0        0               0  \n",
       "2            0        0               0  "
      ]
     },
     "execution_count": 45,
     "metadata": {},
     "output_type": "execute_result"
    }
   ],
   "source": [
    "df.head(3)"
   ]
  },
  {
   "cell_type": "code",
   "execution_count": 47,
   "metadata": {},
   "outputs": [
    {
     "data": {
      "text/html": [
       "<div>\n",
       "<style scoped>\n",
       "    .dataframe tbody tr th:only-of-type {\n",
       "        vertical-align: middle;\n",
       "    }\n",
       "\n",
       "    .dataframe tbody tr th {\n",
       "        vertical-align: top;\n",
       "    }\n",
       "\n",
       "    .dataframe thead th {\n",
       "        text-align: right;\n",
       "    }\n",
       "</style>\n",
       "<table border=\"1\" class=\"dataframe\">\n",
       "  <thead>\n",
       "    <tr style=\"text-align: right;\">\n",
       "      <th></th>\n",
       "      <th>credit.policy</th>\n",
       "      <th>int.rate</th>\n",
       "      <th>installment</th>\n",
       "      <th>log.annual.inc</th>\n",
       "      <th>dti</th>\n",
       "      <th>fico</th>\n",
       "      <th>days.with.cr.line</th>\n",
       "      <th>revol.bal</th>\n",
       "      <th>revol.util</th>\n",
       "      <th>inq.last.6mths</th>\n",
       "      <th>delinq.2yrs</th>\n",
       "      <th>pub.rec</th>\n",
       "      <th>not.fully.paid</th>\n",
       "      <th>purpose_credit_card</th>\n",
       "      <th>purpose_debt_consolidation</th>\n",
       "      <th>purpose_educational</th>\n",
       "      <th>purpose_home_improvement</th>\n",
       "      <th>purpose_major_purchase</th>\n",
       "      <th>purpose_small_business</th>\n",
       "    </tr>\n",
       "  </thead>\n",
       "  <tbody>\n",
       "    <tr>\n",
       "      <th>0</th>\n",
       "      <td>1</td>\n",
       "      <td>0.1189</td>\n",
       "      <td>829.10</td>\n",
       "      <td>11.350407</td>\n",
       "      <td>19.48</td>\n",
       "      <td>737</td>\n",
       "      <td>5639.958333</td>\n",
       "      <td>28854</td>\n",
       "      <td>52.1</td>\n",
       "      <td>0</td>\n",
       "      <td>0</td>\n",
       "      <td>0</td>\n",
       "      <td>0</td>\n",
       "      <td>0</td>\n",
       "      <td>1</td>\n",
       "      <td>0</td>\n",
       "      <td>0</td>\n",
       "      <td>0</td>\n",
       "      <td>0</td>\n",
       "    </tr>\n",
       "    <tr>\n",
       "      <th>1</th>\n",
       "      <td>1</td>\n",
       "      <td>0.1071</td>\n",
       "      <td>228.22</td>\n",
       "      <td>11.082143</td>\n",
       "      <td>14.29</td>\n",
       "      <td>707</td>\n",
       "      <td>2760.000000</td>\n",
       "      <td>33623</td>\n",
       "      <td>76.7</td>\n",
       "      <td>0</td>\n",
       "      <td>0</td>\n",
       "      <td>0</td>\n",
       "      <td>0</td>\n",
       "      <td>1</td>\n",
       "      <td>0</td>\n",
       "      <td>0</td>\n",
       "      <td>0</td>\n",
       "      <td>0</td>\n",
       "      <td>0</td>\n",
       "    </tr>\n",
       "  </tbody>\n",
       "</table>\n",
       "</div>"
      ],
      "text/plain": [
       "   credit.policy  int.rate  installment  log.annual.inc    dti  fico  \\\n",
       "0              1    0.1189       829.10       11.350407  19.48   737   \n",
       "1              1    0.1071       228.22       11.082143  14.29   707   \n",
       "\n",
       "   days.with.cr.line  revol.bal  revol.util  inq.last.6mths  delinq.2yrs  \\\n",
       "0        5639.958333      28854        52.1               0            0   \n",
       "1        2760.000000      33623        76.7               0            0   \n",
       "\n",
       "   pub.rec  not.fully.paid  purpose_credit_card  purpose_debt_consolidation  \\\n",
       "0        0               0                    0                           1   \n",
       "1        0               0                    1                           0   \n",
       "\n",
       "   purpose_educational  purpose_home_improvement  purpose_major_purchase  \\\n",
       "0                    0                         0                       0   \n",
       "1                    0                         0                       0   \n",
       "\n",
       "   purpose_small_business  \n",
       "0                       0  \n",
       "1                       0  "
      ]
     },
     "execution_count": 47,
     "metadata": {},
     "output_type": "execute_result"
    }
   ],
   "source": [
    "df_1 = pd.get_dummies(df,drop_first=True)\n",
    "# convert column purpose to dummy variable for use in model \n",
    "df_1.head(2)"
   ]
  },
  {
   "cell_type": "code",
   "execution_count": 48,
   "metadata": {},
   "outputs": [],
   "source": [
    "X = df_1.drop(columns=['not.fully.paid'],axis=1).values\n",
    "y = df_1['not.fully.paid'].values\n",
    "X_train , X_test , y_train , y_test = train_test_split(X,y,test_size=0.25)\n",
    "# seperate a data to train_set and test_set for test a model performance"
   ]
  },
  {
   "cell_type": "code",
   "execution_count": 49,
   "metadata": {},
   "outputs": [],
   "source": [
    "scaler = StandardScaler()\n",
    "X_train_scaled = scaler.fit_transform(X_train)\n",
    "X_test_scaled = scaler.transform(X_test)\n",
    "# convert feature to standard scale to see coef when use logistic regression and improve accuracy"
   ]
  },
  {
   "cell_type": "code",
   "execution_count": 50,
   "metadata": {},
   "outputs": [
    {
     "data": {
      "text/plain": [
       "[0.8393402857479635,\n",
       " 0.8163718042570615,\n",
       " 0.7441206394897978,\n",
       " 0.8408739476769795]"
      ]
     },
     "execution_count": 50,
     "metadata": {},
     "output_type": "execute_result"
    }
   ],
   "source": [
    "models = {'LogisticRegression':LogisticRegression()\n",
    "        ,'Knn':KNeighborsClassifier()\n",
    "        ,'DecisionTree':DecisionTreeClassifier()\n",
    "        ,'SVC':SVC()}\n",
    "result_acc = []\n",
    "for model in models.values():\n",
    "        kf = KFold(n_splits=4,shuffle=True)\n",
    "        cv_res = cross_val_score(model,X_train_scaled,y_train,cv=kf)\n",
    "        result_acc.append(cv_res.mean())\n",
    "result_acc\n",
    "# see a accuracy in each model "
   ]
  },
  {
   "cell_type": "code",
   "execution_count": 51,
   "metadata": {},
   "outputs": [
    {
     "data": {
      "text/plain": [
       "{'LogisticRegression': 0.8393402857479635,\n",
       " 'Knn': 0.8163718042570615,\n",
       " 'DecisionTree': 0.7441206394897978,\n",
       " 'SVC': 0.8408739476769795}"
      ]
     },
     "execution_count": 51,
     "metadata": {},
     "output_type": "execute_result"
    }
   ],
   "source": [
    "dict(zip(models.keys(),result_acc))\n",
    "# DecisionTree have low performance So I decide to test parameter just 3 model !!"
   ]
  },
  {
   "cell_type": "code",
   "execution_count": 55,
   "metadata": {},
   "outputs": [
    {
     "name": "stdout",
     "output_type": "stream",
     "text": [
      "{'C': 0.001}\n",
      "best score for LogisticModel : 0.8397606627859417\n"
     ]
    }
   ],
   "source": [
    "lr_mld = LogisticRegression()\n",
    "param_lr = {'C':[0.001, 0.01, 0.1, 1, 10]}\n",
    "lr_mdl_tunning = GridSearchCV(lr_mld,param_lr)\n",
    "lr_mdl_tunning.fit(X_train_scaled,y_train)\n",
    "print(lr_mdl_tunning.best_params_)\n",
    "print(\"best score for LogisticModel :\",lr_mdl_tunning.best_score_)"
   ]
  },
  {
   "cell_type": "code",
   "execution_count": 56,
   "metadata": {},
   "outputs": [
    {
     "name": "stdout",
     "output_type": "stream",
     "text": [
      "{'n_neighbors': 12}\n",
      "best score for Knn : 0.8366972743819818\n"
     ]
    }
   ],
   "source": [
    "knn_mld = KNeighborsClassifier()\n",
    "param_knn = {'n_neighbors':list(range(5,15))}\n",
    "# ,'metric':['minkowski','cityblock']\n",
    "knn_mld_tunning = GridSearchCV(knn_mld,param_knn)\n",
    "knn_mld_tunning.fit(X_train_scaled,y_train)\n",
    "print(knn_mld_tunning.best_params_)\n",
    "print(\"best score for Knn :\",knn_mld_tunning.best_score_)"
   ]
  },
  {
   "cell_type": "code",
   "execution_count": 58,
   "metadata": {},
   "outputs": [
    {
     "name": "stdout",
     "output_type": "stream",
     "text": [
      "{'C': 10, 'gamma': 0.01}\n",
      "best score for SVC : 0.8401782962415897\n"
     ]
    }
   ],
   "source": [
    "svc_mld = SVC()\n",
    "param_svc = {'C':[0.1, 1, 10], 'gamma':[ 0.01, 0.1]}\n",
    "svc_mld_tunning = GridSearchCV(svc_mld,param_svc)\n",
    "svc_mld_tunning.fit(X_train_scaled,y_train)\n",
    "print(svc_mld_tunning.best_params_)\n",
    "print(\"best score for SVC :\",svc_mld_tunning.best_score_)"
   ]
  },
  {
   "cell_type": "code",
   "execution_count": null,
   "metadata": {},
   "outputs": [],
   "source": [
    "# every model acc around 83-84 % \n",
    "# I decide to drop some feature by look coef from LogisticRegression , It may improve performance for LogisticRe model"
   ]
  },
  {
   "cell_type": "code",
   "execution_count": 63,
   "metadata": {},
   "outputs": [
    {
     "data": {
      "text/plain": [
       "Index(['credit.policy', 'int.rate', 'installment', 'log.annual.inc', 'dti',\n",
       "       'fico', 'days.with.cr.line', 'revol.bal', 'revol.util',\n",
       "       'inq.last.6mths', 'delinq.2yrs', 'pub.rec', 'purpose_credit_card',\n",
       "       'purpose_debt_consolidation', 'purpose_educational',\n",
       "       'purpose_home_improvement', 'purpose_major_purchase',\n",
       "       'purpose_small_business'],\n",
       "      dtype='object')"
      ]
     },
     "execution_count": 63,
     "metadata": {},
     "output_type": "execute_result"
    }
   ],
   "source": [
    "feature = df_1.drop(columns=['not.fully.paid'],axis=1).columns\n",
    "feature"
   ]
  },
  {
   "cell_type": "code",
   "execution_count": 62,
   "metadata": {},
   "outputs": [
    {
     "data": {
      "text/plain": [
       "array([[-0.13027595,  0.02663659,  0.23518924, -0.23241266, -0.01302651,\n",
       "        -0.40763264,  0.0277167 ,  0.10529685,  0.08025751,  0.1941666 ,\n",
       "        -0.08052495,  0.0700383 , -0.19908595, -0.18044927,  0.02084057,\n",
       "         0.04191267, -0.07425455,  0.14177924]])"
      ]
     },
     "execution_count": 62,
     "metadata": {},
     "output_type": "execute_result"
    }
   ],
   "source": [
    "lr_mld.fit(X_train_scaled,y_train)\n",
    "lr_mld.coef_"
   ]
  },
  {
   "cell_type": "code",
   "execution_count": 66,
   "metadata": {},
   "outputs": [
    {
     "data": {
      "text/plain": [
       "{'credit.policy': -0.13027594794869138,\n",
       " 'int.rate': 0.026636589643743686,\n",
       " 'installment': 0.2351892410868448,\n",
       " 'log.annual.inc': -0.23241265851139065,\n",
       " 'dti': -0.01302650616909638,\n",
       " 'fico': -0.4076326446097526,\n",
       " 'days.with.cr.line': 0.0277167004711788,\n",
       " 'revol.bal': 0.10529684797992879,\n",
       " 'revol.util': 0.08025751267367118,\n",
       " 'inq.last.6mths': 0.1941666002034287,\n",
       " 'delinq.2yrs': -0.0805249468602336,\n",
       " 'pub.rec': 0.07003829831068255,\n",
       " 'purpose_credit_card': -0.19908594992767548,\n",
       " 'purpose_debt_consolidation': -0.1804492655892998,\n",
       " 'purpose_educational': 0.020840573221112095,\n",
       " 'purpose_home_improvement': 0.041912673495863424,\n",
       " 'purpose_major_purchase': -0.07425454990162308,\n",
       " 'purpose_small_business': 0.14177924307014161}"
      ]
     },
     "execution_count": 66,
     "metadata": {},
     "output_type": "execute_result"
    }
   ],
   "source": [
    "feature_X_coef = dict(zip(feature,lr_mld.coef_[0]))\n",
    "feature_X_coef\n",
    "# see coef of each feature in standard scale "
   ]
  },
  {
   "cell_type": "code",
   "execution_count": 65,
   "metadata": {},
   "outputs": [
    {
     "data": {
      "image/png": "[encoded data removed]",
      "text/plain": [
       "<Figure size 432x288 with 1 Axes>"
      ]
     },
     "metadata": {
      "needs_background": "light"
     },
     "output_type": "display_data"
    }
   ],
   "source": [
    "plt.hist(np.abs(lr_mld.coef_[0]),bins=30)\n",
    "plt.show() # see range of coef to select a feature that impact for logis model \n",
    "# So I decide to cut off at 0.1 (select feature that coef > 0.1) "
   ]
  },
  {
   "cell_type": "code",
   "execution_count": 67,
   "metadata": {},
   "outputs": [
    {
     "data": {
      "text/plain": [
       "array(['credit.policy', 'installment', 'log.annual.inc', 'fico',\n",
       "       'revol.bal', 'inq.last.6mths', 'purpose_credit_card',\n",
       "       'purpose_debt_consolidation', 'purpose_small_business'],\n",
       "      dtype='<U26')"
      ]
     },
     "execution_count": 67,
     "metadata": {},
     "output_type": "execute_result"
    }
   ],
   "source": [
    "np.array(list(feature_X_coef.keys()))[np.abs(list(feature_X_coef.values())) > 0.1]\n",
    "# feature selected "
   ]
  },
  {
   "cell_type": "code",
   "execution_count": 69,
   "metadata": {},
   "outputs": [],
   "source": [
    "X_new = df_1[['credit.policy', 'installment', 'log.annual.inc', 'fico',\n",
    "       'revol.bal', 'inq.last.6mths', 'purpose_credit_card',\n",
    "       'purpose_debt_consolidation', 'purpose_small_business']].values\n",
    "y = df_1['not.fully.paid'].values\n",
    "X_new_train , X_new_test ,y_train , y_test = train_test_split(X_new,y,test_size=0.25,random_state=0)\n",
    "X_new_train_scaled = scaler.fit_transform(X_new_train)\n",
    "X_new_test_scaled = scaler.transform(X_new_test)"
   ]
  },
  {
   "cell_type": "code",
   "execution_count": 82,
   "metadata": {},
   "outputs": [
    {
     "data": {
      "text/plain": [
       "0.8405010438413362"
      ]
     },
     "execution_count": 82,
     "metadata": {},
     "output_type": "execute_result"
    }
   ],
   "source": [
    "lr_mld_drop = LogisticRegression(C=0.001)\n",
    "lr_mld_drop.fit(X_new_train_scaled,y_train)\n",
    "lr_mld_drop.score(X_new_test_scaled,y_test)\n",
    "# drop some column by look a coef ==> not effect performance logistic model "
   ]
  },
  {
   "cell_type": "markdown",
   "metadata": {},
   "source": [
    "### Predictive TestSet"
   ]
  },
  {
   "cell_type": "code",
   "execution_count": 79,
   "metadata": {},
   "outputs": [
    {
     "name": "stdout",
     "output_type": "stream",
     "text": [
      "[[2011    3]\n",
      " [ 381    0]]\n",
      "              precision    recall  f1-score   support\n",
      "\n",
      "           0       0.84      1.00      0.91      2014\n",
      "           1       0.00      0.00      0.00       381\n",
      "\n",
      "    accuracy                           0.84      2395\n",
      "   macro avg       0.42      0.50      0.46      2395\n",
      "weighted avg       0.71      0.84      0.77      2395\n",
      "\n"
     ]
    }
   ],
   "source": [
    "y_pred_svc = svc_mld_tunning.predict(X_test_scaled)\n",
    "print(confusion_matrix(y_test,y_pred_svc))\n",
    "print(classification_report(y_test,y_pred_svc))\n"
   ]
  },
  {
   "cell_type": "code",
   "execution_count": 81,
   "metadata": {},
   "outputs": [
    {
     "name": "stdout",
     "output_type": "stream",
     "text": [
      "[[2000   14]\n",
      " [ 377    4]]\n",
      "              precision    recall  f1-score   support\n",
      "\n",
      "           0       0.84      0.99      0.91      2014\n",
      "           1       0.22      0.01      0.02       381\n",
      "\n",
      "    accuracy                           0.84      2395\n",
      "   macro avg       0.53      0.50      0.47      2395\n",
      "weighted avg       0.74      0.84      0.77      2395\n",
      "\n"
     ]
    }
   ],
   "source": [
    "y_pred_knn = knn_mld_tunning.predict(X_test_scaled)\n",
    "print(confusion_matrix(y_test,y_pred_knn))\n",
    "print(classification_report(y_test,y_pred_knn))"
   ]
  },
  {
   "cell_type": "code",
   "execution_count": 83,
   "metadata": {},
   "outputs": [
    {
     "name": "stdout",
     "output_type": "stream",
     "text": [
      "[[2013    1]\n",
      " [ 381    0]]\n",
      "              precision    recall  f1-score   support\n",
      "\n",
      "           0       0.84      1.00      0.91      2014\n",
      "           1       0.00      0.00      0.00       381\n",
      "\n",
      "    accuracy                           0.84      2395\n",
      "   macro avg       0.42      0.50      0.46      2395\n",
      "weighted avg       0.71      0.84      0.77      2395\n",
      "\n"
     ]
    }
   ],
   "source": [
    "y_pred_lr_drop = lr_mld_drop.predict(X_new_test_scaled)\n",
    "print(confusion_matrix(y_test,y_pred_lr_drop))\n",
    "print(classification_report(y_test,y_pred_lr_drop))\n",
    "# no one model can detect a notFullyPaid ,So I decide to try TreeDecision model that lower acc than 3 model"
   ]
  },
  {
   "cell_type": "code",
   "execution_count": 85,
   "metadata": {},
   "outputs": [
    {
     "name": "stdout",
     "output_type": "stream",
     "text": [
      "[[1673  341]\n",
      " [ 322   59]]\n",
      "              precision    recall  f1-score   support\n",
      "\n",
      "           0       0.84      0.83      0.83      2014\n",
      "           1       0.15      0.15      0.15       381\n",
      "\n",
      "    accuracy                           0.72      2395\n",
      "   macro avg       0.49      0.49      0.49      2395\n",
      "weighted avg       0.73      0.72      0.73      2395\n",
      "\n"
     ]
    }
   ],
   "source": [
    "tree = DecisionTreeClassifier()\n",
    "tree.fit(X_train_scaled,y_train)\n",
    "y_pred_tree = tree.predict(X_test_scaled)\n",
    "print(confusion_matrix(y_test,y_pred_tree))\n",
    "print(classification_report(y_test,y_pred_tree))\n",
    "# tree decision model can detect a notFullyPaid "
   ]
  },
  {
   "cell_type": "markdown",
   "metadata": {},
   "source": [
    "Idea for future improvements : \n",
    " - dataset for test performance should have size of class positive and negative by equally \n",
    " - try to feature engineer  \n",
    " - try building a deep learning "
   ]
  }
 ],
 "metadata": {
  "kernelspec": {
   "display_name": "Python 3.9.13 64-bit (windows store)",
   "language": "python",
   "name": "python3"
  },
  "language_info": {
   "codemirror_mode": {
    "name": "ipython",
    "version": 3
   },
   "file_extension": ".py",
   "mimetype": "text/x-python",
   "name": "python",
   "nbconvert_exporter": "python",
   "pygments_lexer": "ipython3",
   "version": "3.9.13"
  },
  "orig_nbformat": 4,
  "vscode": {
   "interpreter": {
    "hash": "9980902d2181b0366f268cdeb570dcf1ce18a8ac5e6cd70c732da8630a487bfc"
   }
  }
 },
 "nbformat": 4,
 "nbformat_minor": 2
}
